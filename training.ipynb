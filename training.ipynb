{
 "cells": [
  {
   "attachments": {},
   "cell_type": "markdown",
   "metadata": {},
   "source": [
    "<img src=\"./design/ictu.png\" width=\"10%\" align=\"right\">\n",
    "\n",
    "## Gesture recognition\n",
    "\n",
    "Group members:\n",
    "\n",
    "- Tran Xuan Thanh\n",
    "- Vu Dinh Dung\n",
    "- Be Thanh Tung\n",
    "\n",
    "<hr>\n",
    "<img src=\"./design/pytorch.png\" width=\"10%\" align=\"left\">\n",
    "<img src=\"./design/lightning.png\" width=\"15%\" align=\"right\">"
   ]
  },
  {
   "cell_type": "code",
   "execution_count": 6,
   "metadata": {},
   "outputs": [
    {
     "name": "stdout",
     "output_type": "stream",
     "text": [
      "train: 420, validation: 120, test: 60\n"
     ]
    }
   ],
   "source": [
    "import torch\n",
    "\n",
    "from torchvision import datasets\n",
    "from torch.utils.data import random_split, DataLoader, Dataset\n",
    "from torchvision.transforms import Compose, ToTensor, Grayscale\n",
    "from os import cpu_count\n",
    "\n",
    "batch_size = 4\n",
    "num_workers = cpu_count() or 1\n",
    "\n",
    "transforms = Compose([Grayscale(), ToTensor()])\n",
    "\n",
    "def data_loader(dataset: Dataset) -> DataLoader:\n",
    "    return DataLoader(dataset, batch_size=batch_size, num_workers=num_workers)\n",
    "\n",
    "image_folder = datasets.ImageFolder('./data', transform=transforms)\n",
    "num_classes=len(image_folder.classes)\n",
    "\n",
    "data = random_split(dataset=image_folder, lengths=[0.7, 0.2, 0.1])\n",
    "train_loader, validation_loader, test_loader = [data_loader(x) for x in data]\n",
    "\n",
    "print(f\"train: {len(train_loader.dataset)}, validation: {len(validation_loader.dataset)}, test: {len(test_loader.dataset)}\") # type: ignore\n",
    "\n",
    "train_losses = []\n",
    "val_losses = []"
   ]
  },
  {
   "cell_type": "code",
   "execution_count": 7,
   "metadata": {},
   "outputs": [],
   "source": [
    "from pytorch_lightning import LightningModule\n",
    "from torch import Tensor, nn, tanh\n",
    "from torch.nn.functional import cross_entropy\n",
    "from torch.optim import Optimizer, Adam\n",
    "from torchmetrics.functional import accuracy\n",
    "from typing import TypedDict, List, Dict, Any\n",
    "\n",
    "Batch = List[Tensor]\n",
    "\n",
    "class Output(TypedDict):\n",
    "    y: Tensor\n",
    "    y_hat: Tensor\n",
    "\n",
    "class Result(TypedDict):\n",
    "    loss: Tensor\n",
    "    output: Output\n",
    "\n",
    "class Network(LightningModule):\n",
    "    def __init__(self):\n",
    "        super().__init__()\n",
    "        self.conv1 = nn.Conv2d(1, 6, 5)\n",
    "        self.maxpool1 = nn.MaxPool2d(2, 2)\n",
    "        self.conv2 = nn.Conv2d(6, 16, 5)\n",
    "        self.maxpool2 = nn.MaxPool2d(2, 2)\n",
    "        self.flatten = nn.Flatten(1)\n",
    "        self.fc1 = nn.Linear(16*5*5, 120)\n",
    "        self.fc2 = nn.Linear(120, 84)\n",
    "        self.fc3 = nn.Linear(84, num_classes)\n",
    "\n",
    "    def forward(self, x):\n",
    "        x = self.maxpool1(tanh(self.conv1(x)))\n",
    "        x = self.maxpool2(tanh(self.conv2(x)))\n",
    "        x = self.flatten(x)\n",
    "        x = tanh(self.fc1(x))\n",
    "        x = tanh(self.fc2(x))\n",
    "        x = self.fc3(x)\n",
    "\n",
    "        return x\n",
    "\n",
    "    def _share_step(self, batch: Batch) -> Result:\n",
    "        x, y = batch\n",
    "        y_hat = self(x)\n",
    "        loss = cross_entropy(y_hat, y)\n",
    "        return {'loss': loss, 'output': {'y': y, 'y_hat': y_hat}}\n",
    "\n",
    "    def _avg_loss(self, outputs: List[Dict[str, Any]]):\n",
    "        return torch.stack([x['loss'] for x in outputs]).mean()\n",
    "\n",
    "    def training_step(self, batch: Batch, batch_idx: int):\n",
    "        return self._share_step(batch)\n",
    "    \n",
    "    def training_epoch_end(self, outputs: List[Dict[str, Any]]) -> None:\n",
    "        avg_loss = self._avg_loss(outputs)\n",
    "        train_losses.append(avg_loss)\n",
    "\n",
    "    def validation_step(self, batch: Batch, batch_idx: int):\n",
    "        return self._share_step(batch)\n",
    "\n",
    "    def validation_epoch_end(self, outputs: List[Dict[str, Any]]) -> None:\n",
    "        avg_loss = self._avg_loss(outputs)\n",
    "        self.log('val_loss', avg_loss, prog_bar=True)\n",
    "        val_losses.append(avg_loss)\n",
    "\n",
    "    def test_step(self, batch: Batch, batch_idx: int):\n",
    "        ret = self._share_step(batch)\n",
    "        acc = accuracy(\n",
    "            ret['output']['y_hat'], ret['output']['y'],\n",
    "            task=\"multiclass\",\n",
    "            num_classes=num_classes\n",
    "        )\n",
    "        metrics = {\"test_acc\": acc, \"test_loss\": ret['loss']}\n",
    "        self.log_dict(metrics)\n",
    "\n",
    "        return metrics\n",
    "\n",
    "    def configure_optimizers(self) -> Optimizer:\n",
    "        optimizer = Adam(self.parameters(), lr=0.001)\n",
    "\n",
    "        return optimizer\n"
   ]
  },
  {
   "cell_type": "code",
   "execution_count": 8,
   "metadata": {},
   "outputs": [
    {
     "name": "stderr",
     "output_type": "stream",
     "text": [
      "GPU available: False, used: False\n",
      "TPU available: False, using: 0 TPU cores\n",
      "IPU available: False, using: 0 IPUs\n",
      "HPU available: False, using: 0 HPUs\n",
      "/home/gingdev/Code/python/gesture/.venv/lib/python3.10/site-packages/pytorch_lightning/callbacks/model_checkpoint.py:613: UserWarning: Checkpoint directory /home/gingdev/Code/python/gesture/checkpoints exists and is not empty.\n",
      "  rank_zero_warn(f\"Checkpoint directory {dirpath} exists and is not empty.\")\n",
      "\n",
      "  | Name     | Type      | Params\n",
      "---------------------------------------\n",
      "0 | conv1    | Conv2d    | 156   \n",
      "1 | maxpool1 | MaxPool2d | 0     \n",
      "2 | conv2    | Conv2d    | 2.4 K \n",
      "3 | maxpool2 | MaxPool2d | 0     \n",
      "4 | flatten  | Flatten   | 0     \n",
      "5 | fc1      | Linear    | 48.1 K\n",
      "6 | fc2      | Linear    | 10.2 K\n",
      "7 | fc3      | Linear    | 255   \n",
      "---------------------------------------\n",
      "61.1 K    Trainable params\n",
      "0         Non-trainable params\n",
      "61.1 K    Total params\n",
      "0.244     Total estimated model params size (MB)\n"
     ]
    },
    {
     "name": "stdout",
     "output_type": "stream",
     "text": [
      "Epoch 9: 100%|██████████| 135/135 [00:02<00:00, 47.51it/s, loss=0.00013, val_loss=0.000139] "
     ]
    },
    {
     "name": "stderr",
     "output_type": "stream",
     "text": [
      "`Trainer.fit` stopped: `max_epochs=10` reached.\n"
     ]
    },
    {
     "name": "stdout",
     "output_type": "stream",
     "text": [
      "Epoch 9: 100%|██████████| 135/135 [00:02<00:00, 46.97it/s, loss=0.00013, val_loss=0.000139]\n",
      "Testing DataLoader 0: 100%|██████████| 15/15 [00:00<00:00, 59.82it/s]\n"
     ]
    },
    {
     "data": {
      "text/html": [
       "<pre style=\"white-space:pre;overflow-x:auto;line-height:normal;font-family:Menlo,'DejaVu Sans Mono',consolas,'Courier New',monospace\">┏━━━━━━━━━━━━━━━━━━━━━━━━━━━┳━━━━━━━━━━━━━━━━━━━━━━━━━━━┓\n",
       "┃<span style=\"font-weight: bold\">        Test metric        </span>┃<span style=\"font-weight: bold\">       DataLoader 0        </span>┃\n",
       "┡━━━━━━━━━━━━━━━━━━━━━━━━━━━╇━━━━━━━━━━━━━━━━━━━━━━━━━━━┩\n",
       "│<span style=\"color: #008080; text-decoration-color: #008080\">         test_acc          </span>│<span style=\"color: #800080; text-decoration-color: #800080\">            1.0            </span>│\n",
       "│<span style=\"color: #008080; text-decoration-color: #008080\">         test_loss         </span>│<span style=\"color: #800080; text-decoration-color: #800080\">  0.00010903416114160791   </span>│\n",
       "└───────────────────────────┴───────────────────────────┘\n",
       "</pre>\n"
      ],
      "text/plain": [
       "┏━━━━━━━━━━━━━━━━━━━━━━━━━━━┳━━━━━━━━━━━━━━━━━━━━━━━━━━━┓\n",
       "┃\u001b[1m \u001b[0m\u001b[1m       Test metric       \u001b[0m\u001b[1m \u001b[0m┃\u001b[1m \u001b[0m\u001b[1m      DataLoader 0       \u001b[0m\u001b[1m \u001b[0m┃\n",
       "┡━━━━━━━━━━━━━━━━━━━━━━━━━━━╇━━━━━━━━━━━━━━━━━━━━━━━━━━━┩\n",
       "│\u001b[36m \u001b[0m\u001b[36m        test_acc         \u001b[0m\u001b[36m \u001b[0m│\u001b[35m \u001b[0m\u001b[35m           1.0           \u001b[0m\u001b[35m \u001b[0m│\n",
       "│\u001b[36m \u001b[0m\u001b[36m        test_loss        \u001b[0m\u001b[36m \u001b[0m│\u001b[35m \u001b[0m\u001b[35m 0.00010903416114160791  \u001b[0m\u001b[35m \u001b[0m│\n",
       "└───────────────────────────┴───────────────────────────┘\n"
      ]
     },
     "metadata": {},
     "output_type": "display_data"
    },
    {
     "name": "stdout",
     "output_type": "stream",
     "text": [
      "Training finished.\n"
     ]
    }
   ],
   "source": [
    "import torch\n",
    "from pytorch_lightning import Trainer\n",
    "from pytorch_lightning.callbacks.early_stopping import EarlyStopping\n",
    "\n",
    "network = Network()\n",
    "\n",
    "trainer = Trainer(\n",
    "    max_epochs=10,\n",
    "    callbacks=[EarlyStopping(monitor=\"val_loss\", mode=\"min\")],\n",
    "    logger=False,\n",
    "    num_sanity_val_steps=0\n",
    ")\n",
    "\n",
    "trainer.fit(model=network, train_dataloaders=train_loader, val_dataloaders=validation_loader)\n",
    "trainer.test(model=network, dataloaders=test_loader)\n",
    "trainer.save_checkpoint('./gesture.ckpt')\n",
    "\n",
    "# https://pytorch.org/tutorials/beginner/saving_loading_models.html\n",
    "model = torch.jit.script(network) # type: ignore\n",
    "model.save('./gesture.pt') # type: ignore\n",
    "\n",
    "print(\"Training finished.\")"
   ]
  },
  {
   "cell_type": "code",
   "execution_count": 9,
   "metadata": {},
   "outputs": [
    {
     "data": {
      "image/png": "[encoded data removed]",
      "text/plain": [
       "<Figure size 1000x400 with 2 Axes>"
      ]
     },
     "metadata": {},
     "output_type": "display_data"
    }
   ],
   "source": [
    "import matplotlib.pyplot as plt\n",
    "\n",
    "from matplotlib.axes import Axes\n",
    "from numpy.typing import NDArray\n",
    "\n",
    "ax1: Axes\n",
    "ax2: Axes\n",
    "fig, (ax1, ax2) = plt.subplots(1, 2, figsize=(10, 4))\n",
    "fig.tight_layout()\n",
    "\n",
    "ax1.set_title('Training Loss')\n",
    "ax1.set_xlabel('epoch')\n",
    "ax1.set_ylabel('loss')\n",
    "ax1.plot(train_losses)\n",
    "\n",
    "ax2.set_title('Validation Loss')\n",
    "ax2.set_xlabel('epoch')\n",
    "ax2.set_ylabel('loss')\n",
    "ax2.plot(val_losses)\n",
    "\n",
    "plt.show()\n",
    "\n",
    "def imshow(img: Tensor):\n",
    "    npimg: NDArray[Any] = img.numpy()\n",
    "    npimg = npimg.transpose((1,2,0))\n",
    "    plt.imshow(npimg)\n",
    "    plt.show()"
   ]
  },
  {
   "cell_type": "code",
   "execution_count": 10,
   "metadata": {},
   "outputs": [
    {
     "data": {
      "image/png": "[encoded data removed]",
      "text/plain": [
       "<Figure size 640x480 with 1 Axes>"
      ]
     },
     "metadata": {},
     "output_type": "display_data"
    },
    {
     "name": "stdout",
     "output_type": "stream",
     "text": [
      "Truth: rock paper rock paper\n",
      "Predicted:  rock  paper rock  paper\n"
     ]
    }
   ],
   "source": [
    "import torch\n",
    "from torchvision.utils import make_grid\n",
    "\n",
    "images, labels = next(iter(test_loader))\n",
    "\n",
    "imshow(make_grid(images))\n",
    "\n",
    "print('Truth:', ' '.join(f'{image_folder.classes[labels[i]]}' for i in range(batch_size)))\n",
    "\n",
    "network.load_from_checkpoint('./gesture.ckpt')\n",
    "\n",
    "with torch.no_grad():\n",
    "    outputs = network(images)\n",
    "    _, predicted = torch.max(outputs, 1)\n",
    "\n",
    "print('Predicted: ', ' '.join(f'{image_folder.classes[predicted[j]]:5s}' for j in range(batch_size)))\n"
   ]
  }
 ],
 "metadata": {
  "kernelspec": {
   "display_name": "gesture-g0gxDDLr",
   "language": "python",
   "name": "python3"
  },
  "language_info": {
   "codemirror_mode": {
    "name": "ipython",
    "version": 3
   },
   "file_extension": ".py",
   "mimetype": "text/x-python",
   "name": "python",
   "nbconvert_exporter": "python",
   "pygments_lexer": "ipython3",
   "version": "3.10.6"
  },
  "orig_nbformat": 4,
  "vscode": {
   "interpreter": {
    "hash": "39baa943c034a0c67fde1edcb3c80a92a2fd6c1bf89a1b56d425e114427e9345"
   }
  }
 },
 "nbformat": 4,
 "nbformat_minor": 2
}
