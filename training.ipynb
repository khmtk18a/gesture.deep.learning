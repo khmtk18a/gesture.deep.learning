{
 "cells": [
  {
   "cell_type": "code",
   "execution_count": 3,
   "metadata": {},
   "outputs": [
    {
     "name": "stderr",
     "output_type": "stream",
     "text": [
      "/home/gingdev/Code/python/gesture/.venv/lib/python3.10/site-packages/tqdm/auto.py:21: TqdmWarning: IProgress not found. Please update jupyter and ipywidgets. See https://ipywidgets.readthedocs.io/en/stable/user_install.html\n",
      "  from .autonotebook import tqdm as notebook_tqdm\n"
     ]
    },
    {
     "name": "stdout",
     "output_type": "stream",
     "text": [
      "train: 211, val: 60, test: 30\n",
      "batch size: torch.Size([4, 3, 32, 32]), labels: tensor([1, 0, 0, 0])\n"
     ]
    }
   ],
   "source": [
    "from torchvision import transforms, datasets\n",
    "from torch.utils.data import random_split, DataLoader, Dataset\n",
    "from os import cpu_count\n",
    "\n",
    "batch_size = 4\n",
    "num_workers = cpu_count() or 1\n",
    "\n",
    "def data_loader(dataset: Dataset, shuffle = False) -> DataLoader:\n",
    "    return DataLoader(dataset, batch_size=batch_size, shuffle=shuffle, num_workers=num_workers)\n",
    "\n",
    "classes = ('Bao', 'Bua', 'Keo')\n",
    "\n",
    "images = datasets.ImageFolder('./data', transform=transforms.ToTensor())\n",
    "\n",
    "train, validation, test = random_split(dataset=images, lengths=[0.7, 0.2, 0.1])\n",
    "print(f\"train: {len(train)}, val: {len(validation)}, test: {len(test)}\")\n",
    "\n",
    "train_loader = data_loader(train, shuffle=True)\n",
    "test_loader = data_loader(test)\n",
    "validation_loader = data_loader(validation)\n",
    "\n",
    "images, labels = next(iter(test_loader))\n",
    "\n",
    "print(f\"batch size: {images.size()}, labels: {labels}\")"
   ]
  },
  {
   "cell_type": "code",
   "execution_count": 4,
   "metadata": {},
   "outputs": [],
   "source": [
    "from pytorch_lightning import LightningModule\n",
    "from torch import nn, Tensor\n",
    "from torch.optim import Optimizer, Adam\n",
    "from torchmetrics.functional import accuracy\n",
    "from typing import TypedDict\n",
    "\n",
    "class Output(TypedDict):\n",
    "    y: Tensor\n",
    "    y_hat: Tensor\n",
    "\n",
    "class ComputeLoss(TypedDict):\n",
    "    loss: Tensor\n",
    "    output: Output\n",
    "\n",
    "class Network(LightningModule):\n",
    "    def __init__(self) -> None:\n",
    "        super().__init__()\n",
    "        self.net = nn.Sequential(\n",
    "            nn.Conv2d(3, 6, 5),\n",
    "            nn.ReLU(),\n",
    "            nn.MaxPool2d(2),\n",
    "            nn.Conv2d(6, 16, 5),\n",
    "            nn.ReLU(),\n",
    "            nn.MaxPool2d(2),\n",
    "            nn.Flatten(1),\n",
    "            nn.ReLU(),\n",
    "            nn.Linear(16*5*5, 120),\n",
    "            nn.ReLU(),\n",
    "            nn.Linear(120, 84),\n",
    "            nn.ReLU(),\n",
    "            nn.Linear(84, 3)\n",
    "        )\n",
    "    \n",
    "    def forward(self, x: Tensor) -> Tensor:\n",
    "        return self.net(x)\n",
    "    \n",
    "    def share_step(self, batch) -> ComputeLoss:\n",
    "        x, y = batch\n",
    "        y_hat = self(x)\n",
    "        loss = nn.functional.cross_entropy(y_hat, y)\n",
    "        return {'loss': loss, 'output': {'y': y, 'y_hat': y_hat}}\n",
    "\n",
    "    def training_step(self, batch, batch_idx):\n",
    "        return self.share_step(batch)\n",
    "\n",
    "    def validation_step(self, batch, batch_idx):\n",
    "        ret = self.share_step(batch)\n",
    "        self.log(\"val_loss\", ret['loss'])\n",
    "        return ret\n",
    "\n",
    "    def test_step(self, batch, _):\n",
    "        ret = self.share_step(batch)\n",
    "        acc = accuracy(ret['output']['y_hat'], ret['output']['y'], task=\"multiclass\", num_classes=len(classes))\n",
    "        metrics = {\"test_acc\": acc, \"test_loss\": ret['loss']}\n",
    "        self.log_dict(metrics)\n",
    "\n",
    "        return metrics\n",
    "\n",
    "    def configure_optimizers(self) -> Optimizer:\n",
    "        optimizer = Adam(self.parameters(), lr=0.001)\n",
    "\n",
    "        return optimizer\n"
   ]
  },
  {
   "cell_type": "code",
   "execution_count": 5,
   "metadata": {},
   "outputs": [
    {
     "name": "stderr",
     "output_type": "stream",
     "text": [
      "GPU available: False, used: False\n",
      "TPU available: False, using: 0 TPU cores\n",
      "IPU available: False, using: 0 IPUs\n",
      "HPU available: False, using: 0 HPUs\n",
      "Missing logger folder: tb_logs/Group_1\n",
      "\n",
      "  | Name | Type       | Params\n",
      "------------------------------------\n",
      "0 | net  | Sequential | 61.4 K\n",
      "------------------------------------\n",
      "61.4 K    Trainable params\n",
      "0         Non-trainable params\n",
      "61.4 K    Total params\n",
      "0.246     Total estimated model params size (MB)\n"
     ]
    },
    {
     "name": "stdout",
     "output_type": "stream",
     "text": [
      "Epoch 3: 100%|██████████| 68/68 [00:01<00:00, 61.36it/s, loss=0.000185, v_num=0]"
     ]
    },
    {
     "name": "stderr",
     "output_type": "stream",
     "text": [
      "`Trainer.fit` stopped: `max_epochs=4` reached.\n"
     ]
    },
    {
     "name": "stdout",
     "output_type": "stream",
     "text": [
      "Epoch 3: 100%|██████████| 68/68 [00:01<00:00, 60.98it/s, loss=0.000185, v_num=0]\n",
      "Testing DataLoader 0: 100%|██████████| 8/8 [00:00<00:00, 120.65it/s]\n"
     ]
    },
    {
     "data": {
      "text/html": [
       "<pre style=\"white-space:pre;overflow-x:auto;line-height:normal;font-family:Menlo,'DejaVu Sans Mono',consolas,'Courier New',monospace\">┏━━━━━━━━━━━━━━━━━━━━━━━━━━━┳━━━━━━━━━━━━━━━━━━━━━━━━━━━┓\n",
       "┃<span style=\"font-weight: bold\">        Test metric        </span>┃<span style=\"font-weight: bold\">       DataLoader 0        </span>┃\n",
       "┡━━━━━━━━━━━━━━━━━━━━━━━━━━━╇━━━━━━━━━━━━━━━━━━━━━━━━━━━┩\n",
       "│<span style=\"color: #008080; text-decoration-color: #008080\">         test_acc          </span>│<span style=\"color: #800080; text-decoration-color: #800080\">            1.0            </span>│\n",
       "│<span style=\"color: #008080; text-decoration-color: #008080\">         test_loss         </span>│<span style=\"color: #800080; text-decoration-color: #800080\">   2.872977165679913e-05   </span>│\n",
       "└───────────────────────────┴───────────────────────────┘\n",
       "</pre>\n"
      ],
      "text/plain": [
       "┏━━━━━━━━━━━━━━━━━━━━━━━━━━━┳━━━━━━━━━━━━━━━━━━━━━━━━━━━┓\n",
       "┃\u001b[1m \u001b[0m\u001b[1m       Test metric       \u001b[0m\u001b[1m \u001b[0m┃\u001b[1m \u001b[0m\u001b[1m      DataLoader 0       \u001b[0m\u001b[1m \u001b[0m┃\n",
       "┡━━━━━━━━━━━━━━━━━━━━━━━━━━━╇━━━━━━━━━━━━━━━━━━━━━━━━━━━┩\n",
       "│\u001b[36m \u001b[0m\u001b[36m        test_acc         \u001b[0m\u001b[36m \u001b[0m│\u001b[35m \u001b[0m\u001b[35m           1.0           \u001b[0m\u001b[35m \u001b[0m│\n",
       "│\u001b[36m \u001b[0m\u001b[36m        test_loss        \u001b[0m\u001b[36m \u001b[0m│\u001b[35m \u001b[0m\u001b[35m  2.872977165679913e-05  \u001b[0m\u001b[35m \u001b[0m│\n",
       "└───────────────────────────┴───────────────────────────┘\n"
      ]
     },
     "metadata": {},
     "output_type": "display_data"
    },
    {
     "name": "stdout",
     "output_type": "stream",
     "text": [
      "Training finished.\n"
     ]
    }
   ],
   "source": [
    "from pytorch_lightning import Trainer\n",
    "from pytorch_lightning.callbacks.early_stopping import EarlyStopping\n",
    "from pytorch_lightning.loggers import TensorBoardLogger\n",
    "\n",
    "logger = TensorBoardLogger(\"tb_logs\", name=\"Group_1\")\n",
    "\n",
    "network = Network()\n",
    "\n",
    "trainer = Trainer(\n",
    "    max_epochs=4,\n",
    "    callbacks=[EarlyStopping(monitor=\"val_loss\", mode=\"min\")],\n",
    "    logger=logger\n",
    ")\n",
    "\n",
    "trainer.fit(model=network, train_dataloaders=train_loader, val_dataloaders=validation_loader)\n",
    "trainer.test(model=network, dataloaders=test_loader)\n",
    "trainer.save_checkpoint('./gesture.ckpt')\n",
    "\n",
    "print(\"Training finished.\")"
   ]
  },
  {
   "cell_type": "code",
   "execution_count": 6,
   "metadata": {},
   "outputs": [],
   "source": [
    "import matplotlib.pyplot as plt\n",
    "from numpy.typing import NDArray\n",
    "from typing import Any\n",
    "\n",
    "def imshow(img: Tensor):\n",
    "    npimg: NDArray[Any] = img.numpy()\n",
    "    npimg = npimg.transpose((1,2,0))\n",
    "    plt.imshow(npimg)\n",
    "    plt.show()"
   ]
  },
  {
   "cell_type": "code",
   "execution_count": 7,
   "metadata": {},
   "outputs": [
    {
     "data": {
      "image/png": "[encoded data removed]",
      "text/plain": [
       "<Figure size 640x480 with 1 Axes>"
      ]
     },
     "metadata": {},
     "output_type": "display_data"
    },
    {
     "name": "stdout",
     "output_type": "stream",
     "text": [
      "Truth: Bua Bao Bao Bao\n",
      "Predicted:  Bua   Bao   Bao   Bao  \n"
     ]
    }
   ],
   "source": [
    "import torch\n",
    "from torchvision.utils import make_grid\n",
    "\n",
    "network.load_from_checkpoint('./gesture.ckpt')\n",
    "\n",
    "images, labels = next(iter(test_loader))\n",
    "imshow(make_grid(images))\n",
    "\n",
    "print('Truth:', ' '.join(f'{classes[labels[i]]}' for i in range(batch_size)))\n",
    "\n",
    "network.load_from_checkpoint('./gesture.ckpt')\n",
    "\n",
    "with torch.no_grad():\n",
    "    outputs = network(images)\n",
    "    _, predicted = torch.max(outputs, 1)\n",
    "\n",
    "print('Predicted: ', ' '.join(f'{classes[predicted[j]]:5s}' for j in range(batch_size)))\n"
   ]
  },
  {
   "cell_type": "code",
   "execution_count": 11,
   "metadata": {},
   "outputs": [
    {
     "data": {
      "text/html": [
       "\n",
       "      <iframe id=\"tensorboard-frame-67ef31c128069a90\" width=\"100%\" height=\"800\" frameborder=\"0\">\n",
       "      </iframe>\n",
       "      <script>\n",
       "        (function() {\n",
       "          const frame = document.getElementById(\"tensorboard-frame-67ef31c128069a90\");\n",
       "          const url = new URL(\"http://localhost\");\n",
       "          const port = 6006;\n",
       "          if (port) {\n",
       "            url.port = port;\n",
       "          }\n",
       "          frame.src = url;\n",
       "        })();\n",
       "      </script>\n",
       "    "
      ],
      "text/plain": [
       "<IPython.core.display.HTML object>"
      ]
     },
     "metadata": {},
     "output_type": "display_data"
    }
   ],
   "source": [
    "%load_ext tensorboard\n",
    "%tensorboard --logdir ./tb_logs"
   ]
  }
 ],
 "metadata": {
  "kernelspec": {
   "display_name": "gesture-g0gxDDLr",
   "language": "python",
   "name": "python3"
  },
  "language_info": {
   "codemirror_mode": {
    "name": "ipython",
    "version": 3
   },
   "file_extension": ".py",
   "mimetype": "text/x-python",
   "name": "python",
   "nbconvert_exporter": "python",
   "pygments_lexer": "ipython3",
   "version": "3.10.6"
  },
  "orig_nbformat": 4,
  "vscode": {
   "interpreter": {
    "hash": "39baa943c034a0c67fde1edcb3c80a92a2fd6c1bf89a1b56d425e114427e9345"
   }
  }
 },
 "nbformat": 4,
 "nbformat_minor": 2
}
